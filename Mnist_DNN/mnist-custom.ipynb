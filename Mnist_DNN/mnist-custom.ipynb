{
 "cells": [
  {
   "cell_type": "code",
   "execution_count": 25,
   "metadata": {
    "_cell_guid": "b1076dfc-b9ad-4769-8c92-a6c4dae69d19",
    "_uuid": "8f2839f25d086af736a60e9eeb907d3b93b6e0e5",
    "execution": {
     "iopub.execute_input": "2025-06-17T06:48:08.169072Z",
     "iopub.status.busy": "2025-06-17T06:48:08.168723Z",
     "iopub.status.idle": "2025-06-17T06:48:08.174406Z",
     "shell.execute_reply": "2025-06-17T06:48:08.173411Z",
     "shell.execute_reply.started": "2025-06-17T06:48:08.169047Z"
    },
    "trusted": true
   },
   "outputs": [],
   "source": [
    "import pandas as pd\n",
    "import numpy as np\n",
    "from matplotlib import pyplot as plt\n",
    "from sklearn.model_selection import StratifiedKFold"
   ]
  },
  {
   "cell_type": "code",
   "execution_count": 26,
   "metadata": {
    "execution": {
     "iopub.execute_input": "2025-06-17T06:48:08.238806Z",
     "iopub.status.busy": "2025-06-17T06:48:08.238491Z",
     "iopub.status.idle": "2025-06-17T06:48:10.725617Z",
     "shell.execute_reply": "2025-06-17T06:48:10.723987Z",
     "shell.execute_reply.started": "2025-06-17T06:48:08.238769Z"
    },
    "trusted": true
   },
   "outputs": [],
   "source": [
    "data = pd.read_csv('/kaggle/input/digit-recognizer/train.csv')"
   ]
  },
  {
   "cell_type": "code",
   "execution_count": 27,
   "metadata": {
    "execution": {
     "iopub.execute_input": "2025-06-17T06:48:10.727747Z",
     "iopub.status.busy": "2025-06-17T06:48:10.727462Z",
     "iopub.status.idle": "2025-06-17T06:48:10.743736Z",
     "shell.execute_reply": "2025-06-17T06:48:10.742803Z",
     "shell.execute_reply.started": "2025-06-17T06:48:10.727724Z"
    },
    "trusted": true
   },
   "outputs": [
    {
     "data": {
      "text/html": [
       "<div>\n",
       "<style scoped>\n",
       "    .dataframe tbody tr th:only-of-type {\n",
       "        vertical-align: middle;\n",
       "    }\n",
       "\n",
       "    .dataframe tbody tr th {\n",
       "        vertical-align: top;\n",
       "    }\n",
       "\n",
       "    .dataframe thead th {\n",
       "        text-align: right;\n",
       "    }\n",
       "</style>\n",
       "<table border=\"1\" class=\"dataframe\">\n",
       "  <thead>\n",
       "    <tr style=\"text-align: right;\">\n",
       "      <th></th>\n",
       "      <th>label</th>\n",
       "      <th>pixel0</th>\n",
       "      <th>pixel1</th>\n",
       "      <th>pixel2</th>\n",
       "      <th>pixel3</th>\n",
       "      <th>pixel4</th>\n",
       "      <th>pixel5</th>\n",
       "      <th>pixel6</th>\n",
       "      <th>pixel7</th>\n",
       "      <th>pixel8</th>\n",
       "      <th>...</th>\n",
       "      <th>pixel774</th>\n",
       "      <th>pixel775</th>\n",
       "      <th>pixel776</th>\n",
       "      <th>pixel777</th>\n",
       "      <th>pixel778</th>\n",
       "      <th>pixel779</th>\n",
       "      <th>pixel780</th>\n",
       "      <th>pixel781</th>\n",
       "      <th>pixel782</th>\n",
       "      <th>pixel783</th>\n",
       "    </tr>\n",
       "  </thead>\n",
       "  <tbody>\n",
       "    <tr>\n",
       "      <th>0</th>\n",
       "      <td>1</td>\n",
       "      <td>0</td>\n",
       "      <td>0</td>\n",
       "      <td>0</td>\n",
       "      <td>0</td>\n",
       "      <td>0</td>\n",
       "      <td>0</td>\n",
       "      <td>0</td>\n",
       "      <td>0</td>\n",
       "      <td>0</td>\n",
       "      <td>...</td>\n",
       "      <td>0</td>\n",
       "      <td>0</td>\n",
       "      <td>0</td>\n",
       "      <td>0</td>\n",
       "      <td>0</td>\n",
       "      <td>0</td>\n",
       "      <td>0</td>\n",
       "      <td>0</td>\n",
       "      <td>0</td>\n",
       "      <td>0</td>\n",
       "    </tr>\n",
       "    <tr>\n",
       "      <th>1</th>\n",
       "      <td>0</td>\n",
       "      <td>0</td>\n",
       "      <td>0</td>\n",
       "      <td>0</td>\n",
       "      <td>0</td>\n",
       "      <td>0</td>\n",
       "      <td>0</td>\n",
       "      <td>0</td>\n",
       "      <td>0</td>\n",
       "      <td>0</td>\n",
       "      <td>...</td>\n",
       "      <td>0</td>\n",
       "      <td>0</td>\n",
       "      <td>0</td>\n",
       "      <td>0</td>\n",
       "      <td>0</td>\n",
       "      <td>0</td>\n",
       "      <td>0</td>\n",
       "      <td>0</td>\n",
       "      <td>0</td>\n",
       "      <td>0</td>\n",
       "    </tr>\n",
       "    <tr>\n",
       "      <th>2</th>\n",
       "      <td>1</td>\n",
       "      <td>0</td>\n",
       "      <td>0</td>\n",
       "      <td>0</td>\n",
       "      <td>0</td>\n",
       "      <td>0</td>\n",
       "      <td>0</td>\n",
       "      <td>0</td>\n",
       "      <td>0</td>\n",
       "      <td>0</td>\n",
       "      <td>...</td>\n",
       "      <td>0</td>\n",
       "      <td>0</td>\n",
       "      <td>0</td>\n",
       "      <td>0</td>\n",
       "      <td>0</td>\n",
       "      <td>0</td>\n",
       "      <td>0</td>\n",
       "      <td>0</td>\n",
       "      <td>0</td>\n",
       "      <td>0</td>\n",
       "    </tr>\n",
       "    <tr>\n",
       "      <th>3</th>\n",
       "      <td>4</td>\n",
       "      <td>0</td>\n",
       "      <td>0</td>\n",
       "      <td>0</td>\n",
       "      <td>0</td>\n",
       "      <td>0</td>\n",
       "      <td>0</td>\n",
       "      <td>0</td>\n",
       "      <td>0</td>\n",
       "      <td>0</td>\n",
       "      <td>...</td>\n",
       "      <td>0</td>\n",
       "      <td>0</td>\n",
       "      <td>0</td>\n",
       "      <td>0</td>\n",
       "      <td>0</td>\n",
       "      <td>0</td>\n",
       "      <td>0</td>\n",
       "      <td>0</td>\n",
       "      <td>0</td>\n",
       "      <td>0</td>\n",
       "    </tr>\n",
       "    <tr>\n",
       "      <th>4</th>\n",
       "      <td>0</td>\n",
       "      <td>0</td>\n",
       "      <td>0</td>\n",
       "      <td>0</td>\n",
       "      <td>0</td>\n",
       "      <td>0</td>\n",
       "      <td>0</td>\n",
       "      <td>0</td>\n",
       "      <td>0</td>\n",
       "      <td>0</td>\n",
       "      <td>...</td>\n",
       "      <td>0</td>\n",
       "      <td>0</td>\n",
       "      <td>0</td>\n",
       "      <td>0</td>\n",
       "      <td>0</td>\n",
       "      <td>0</td>\n",
       "      <td>0</td>\n",
       "      <td>0</td>\n",
       "      <td>0</td>\n",
       "      <td>0</td>\n",
       "    </tr>\n",
       "  </tbody>\n",
       "</table>\n",
       "<p>5 rows × 785 columns</p>\n",
       "</div>"
      ],
      "text/plain": [
       "   label  pixel0  pixel1  pixel2  pixel3  pixel4  pixel5  pixel6  pixel7  \\\n",
       "0      1       0       0       0       0       0       0       0       0   \n",
       "1      0       0       0       0       0       0       0       0       0   \n",
       "2      1       0       0       0       0       0       0       0       0   \n",
       "3      4       0       0       0       0       0       0       0       0   \n",
       "4      0       0       0       0       0       0       0       0       0   \n",
       "\n",
       "   pixel8  ...  pixel774  pixel775  pixel776  pixel777  pixel778  pixel779  \\\n",
       "0       0  ...         0         0         0         0         0         0   \n",
       "1       0  ...         0         0         0         0         0         0   \n",
       "2       0  ...         0         0         0         0         0         0   \n",
       "3       0  ...         0         0         0         0         0         0   \n",
       "4       0  ...         0         0         0         0         0         0   \n",
       "\n",
       "   pixel780  pixel781  pixel782  pixel783  \n",
       "0         0         0         0         0  \n",
       "1         0         0         0         0  \n",
       "2         0         0         0         0  \n",
       "3         0         0         0         0  \n",
       "4         0         0         0         0  \n",
       "\n",
       "[5 rows x 785 columns]"
      ]
     },
     "execution_count": 27,
     "metadata": {},
     "output_type": "execute_result"
    }
   ],
   "source": [
    "data.head()"
   ]
  },
  {
   "cell_type": "code",
   "execution_count": 28,
   "metadata": {
    "execution": {
     "iopub.execute_input": "2025-06-17T06:48:10.745160Z",
     "iopub.status.busy": "2025-06-17T06:48:10.744775Z",
     "iopub.status.idle": "2025-06-17T06:48:10.920329Z",
     "shell.execute_reply": "2025-06-17T06:48:10.919352Z",
     "shell.execute_reply.started": "2025-06-17T06:48:10.745129Z"
    },
    "trusted": true
   },
   "outputs": [
    {
     "name": "stdout",
     "output_type": "stream",
     "text": [
      "784 42000\n"
     ]
    }
   ],
   "source": [
    "X_train_full = np.array(data)\n",
    "X_train_full = X_train_full.T #samples now arranged as columns\n",
    "Y_train_full = X_train_full[0]\n",
    "Y_train_full.shape\n",
    "X_train_full = X_train_full[1:] #purify data matrix by removing lables row\n",
    "np.random.shuffle(X_train_full) #shuffle data before transpose and before splitting into train and test\n",
    "n, m = X_train_full.shape\n",
    "print(n, m)"
   ]
  },
  {
   "cell_type": "code",
   "execution_count": 29,
   "metadata": {
    "execution": {
     "iopub.execute_input": "2025-06-17T06:48:10.921636Z",
     "iopub.status.busy": "2025-06-17T06:48:10.921315Z",
     "iopub.status.idle": "2025-06-17T06:48:10.928914Z",
     "shell.execute_reply": "2025-06-17T06:48:10.927556Z",
     "shell.execute_reply.started": "2025-06-17T06:48:10.921606Z"
    },
    "trusted": true
   },
   "outputs": [
    {
     "data": {
      "text/plain": [
       "array([[  0,   0,   0, ...,   0,   0,   0],\n",
       "       [  0,   0,   0, ...,   0,   0,   0],\n",
       "       [  0,   0,   0, ...,   0,   0,   0],\n",
       "       ...,\n",
       "       [  0,   0,   0, ...,   0,   0,   0],\n",
       "       [  0,   0,   6, ..., 255, 199,   5],\n",
       "       [  0,   0,   0, ...,   0,   0,   0]])"
      ]
     },
     "execution_count": 29,
     "metadata": {},
     "output_type": "execute_result"
    }
   ],
   "source": [
    "X_train_full"
   ]
  },
  {
   "cell_type": "code",
   "execution_count": 30,
   "metadata": {
    "execution": {
     "iopub.execute_input": "2025-06-17T06:48:10.931753Z",
     "iopub.status.busy": "2025-06-17T06:48:10.931368Z",
     "iopub.status.idle": "2025-06-17T06:48:10.950584Z",
     "shell.execute_reply": "2025-06-17T06:48:10.949532Z",
     "shell.execute_reply.started": "2025-06-17T06:48:10.931717Z"
    },
    "trusted": true
   },
   "outputs": [
    {
     "name": "stdout",
     "output_type": "stream",
     "text": [
      "9\n"
     ]
    }
   ],
   "source": [
    "max_index = max(Y_train_full)\n",
    "print(max_index)"
   ]
  },
  {
   "cell_type": "code",
   "execution_count": 31,
   "metadata": {
    "execution": {
     "iopub.execute_input": "2025-06-17T06:48:10.951769Z",
     "iopub.status.busy": "2025-06-17T06:48:10.951474Z",
     "iopub.status.idle": "2025-06-17T06:48:10.969330Z",
     "shell.execute_reply": "2025-06-17T06:48:10.968378Z",
     "shell.execute_reply.started": "2025-06-17T06:48:10.951748Z"
    },
    "trusted": true
   },
   "outputs": [],
   "source": [
    "def init_params(n_hidden=10, n_features=784, n_output=10):\n",
    "    W1 = np.random.randn(n_hidden, n_features) * 0.01\n",
    "    b1 = np.random.randn(n_hidden, 1) * 0.01\n",
    "    W2 = np.random.randn(n_output, n_hidden) * 0.01\n",
    "    b2 = np.random.randn(n_output, 1) * 0.01\n",
    "    return W1, b1, W2, b2"
   ]
  },
  {
   "cell_type": "code",
   "execution_count": 32,
   "metadata": {
    "execution": {
     "iopub.execute_input": "2025-06-17T06:48:10.970763Z",
     "iopub.status.busy": "2025-06-17T06:48:10.970337Z",
     "iopub.status.idle": "2025-06-17T06:48:10.991907Z",
     "shell.execute_reply": "2025-06-17T06:48:10.991066Z",
     "shell.execute_reply.started": "2025-06-17T06:48:10.970735Z"
    },
    "trusted": true
   },
   "outputs": [],
   "source": [
    "def softmax(Z):\n",
    "    Z_shifted = Z - np.max(Z, axis=0, keepdims=True)\n",
    "    exp_Z = np.exp(Z_shifted)\n",
    "    return exp_Z/np.sum(exp_Z, axis=0, keepdims=True)"
   ]
  },
  {
   "cell_type": "code",
   "execution_count": 33,
   "metadata": {
    "execution": {
     "iopub.execute_input": "2025-06-17T06:48:10.993197Z",
     "iopub.status.busy": "2025-06-17T06:48:10.992869Z",
     "iopub.status.idle": "2025-06-17T06:48:11.011088Z",
     "shell.execute_reply": "2025-06-17T06:48:11.010235Z",
     "shell.execute_reply.started": "2025-06-17T06:48:10.993167Z"
    },
    "trusted": true
   },
   "outputs": [],
   "source": [
    "def forwardpass(W1, b1, W2, b2, X):\n",
    "    #layer 1 computations\n",
    "    n_samples = X.shape[1]\n",
    "    b1_expanded = np.repeat(b1, n_samples, axis=1)\n",
    "    Z1 = np.dot(W1, X) + b1_expanded\n",
    "    A1 = np.maximum(0, Z1) #1st layer nodes for each sample\n",
    "    b2_expanded = np.repeat(b2, n_samples, axis=1)\n",
    "    Z2 = np.dot(W2, A1) + b2_expanded\n",
    "    A2 = softmax(Z2)\n",
    "    return Z1, A1, Z2, A2"
   ]
  },
  {
   "cell_type": "code",
   "execution_count": 34,
   "metadata": {
    "execution": {
     "iopub.execute_input": "2025-06-17T06:48:11.012566Z",
     "iopub.status.busy": "2025-06-17T06:48:11.012212Z",
     "iopub.status.idle": "2025-06-17T06:48:11.029485Z",
     "shell.execute_reply": "2025-06-17T06:48:11.028466Z",
     "shell.execute_reply.started": "2025-06-17T06:48:11.012536Z"
    },
    "trusted": true
   },
   "outputs": [],
   "source": [
    "def backprop(W1, b1, W2, b2, X, Y, Z1, A1, Z2, A2):\n",
    "    # dZ2 = A2.copy()\n",
    "    # for i in range(n_samples):\n",
    "    #     dZ2[Y[i],i] -= 1\n",
    "    # dW2 = (1/n_samples)*np.dot(dZ2, A1.T)\n",
    "    n_samples = X.shape[1]\n",
    "    dZ2 = A2.copy()\n",
    "    dZ2[Y, np.arange(n_samples)] -= 1\n",
    "    dZ2 = (1/n_samples)*dZ2\n",
    "    dW2 = np.dot(dZ2, A1.T)\n",
    "\n",
    "    db2 = np.sum(dZ2, axis=1, keepdims=True)\n",
    "\n",
    "    dA1 = np.dot(W2.T, dZ2)\n",
    "    ReLU_mask = (Z1 > 0).astype(int)\n",
    "    dZ1 = dA1 * ReLU_mask\n",
    "    dW1 = np.dot(dZ1, X.T)\n",
    "\n",
    "    db1 = np.sum(dZ1, axis=1, keepdims=True)\n",
    "\n",
    "    return dW1, db1, dW2, db2"
   ]
  },
  {
   "cell_type": "code",
   "execution_count": 35,
   "metadata": {
    "execution": {
     "iopub.execute_input": "2025-06-17T06:48:11.030957Z",
     "iopub.status.busy": "2025-06-17T06:48:11.030616Z",
     "iopub.status.idle": "2025-06-17T06:48:11.046793Z",
     "shell.execute_reply": "2025-06-17T06:48:11.045804Z",
     "shell.execute_reply.started": "2025-06-17T06:48:11.030934Z"
    },
    "trusted": true
   },
   "outputs": [],
   "source": [
    "def update_params(W1, b1, W2, b2, Z1, A1, Z2, A2, X, Y, learning_rate=0.01):\n",
    "    dW1, db1, dW2, db2 = backprop(W1, b1, W2, b2, X, Y, Z1, A1, Z2, A2)\n",
    "    W1 = W1 - learning_rate*dW1\n",
    "    b1 = b1 - learning_rate*db1\n",
    "    W2 = W2 - learning_rate*dW2 \n",
    "    b2 = b2 - learning_rate*db2\n",
    "    return W1, b1, W2, b2"
   ]
  },
  {
   "cell_type": "code",
   "execution_count": 36,
   "metadata": {
    "execution": {
     "iopub.execute_input": "2025-06-17T06:48:11.048358Z",
     "iopub.status.busy": "2025-06-17T06:48:11.048031Z",
     "iopub.status.idle": "2025-06-17T06:48:11.064929Z",
     "shell.execute_reply": "2025-06-17T06:48:11.063931Z",
     "shell.execute_reply.started": "2025-06-17T06:48:11.048336Z"
    },
    "trusted": true
   },
   "outputs": [],
   "source": [
    "def cost(A2, Y):\n",
    "    n_samples = Y.shape[0]\n",
    "    return -np.sum(np.log(A2[Y, np.arange(n_samples)])) / n_samples"
   ]
  },
  {
   "cell_type": "code",
   "execution_count": 37,
   "metadata": {
    "execution": {
     "iopub.execute_input": "2025-06-17T06:48:11.066297Z",
     "iopub.status.busy": "2025-06-17T06:48:11.065987Z",
     "iopub.status.idle": "2025-06-17T06:48:11.081890Z",
     "shell.execute_reply": "2025-06-17T06:48:11.080960Z",
     "shell.execute_reply.started": "2025-06-17T06:48:11.066275Z"
    },
    "trusted": true
   },
   "outputs": [],
   "source": [
    "def final_predictions(A2):\n",
    "    return np.argmax(A2, axis=0)"
   ]
  },
  {
   "cell_type": "code",
   "execution_count": 38,
   "metadata": {
    "execution": {
     "iopub.execute_input": "2025-06-17T06:48:11.083219Z",
     "iopub.status.busy": "2025-06-17T06:48:11.082892Z",
     "iopub.status.idle": "2025-06-17T06:48:11.099681Z",
     "shell.execute_reply": "2025-06-17T06:48:11.098701Z",
     "shell.execute_reply.started": "2025-06-17T06:48:11.083190Z"
    },
    "trusted": true
   },
   "outputs": [],
   "source": [
    "def model_probabilities(W1, b1, W2, b2, X):\n",
    "    _, _, _, A2 = forwardpass(W1, b1, W2, b2, X)\n",
    "    return A2"
   ]
  },
  {
   "cell_type": "code",
   "execution_count": 39,
   "metadata": {
    "execution": {
     "iopub.execute_input": "2025-06-17T06:48:11.102504Z",
     "iopub.status.busy": "2025-06-17T06:48:11.102224Z",
     "iopub.status.idle": "2025-06-17T06:48:11.116812Z",
     "shell.execute_reply": "2025-06-17T06:48:11.115829Z",
     "shell.execute_reply.started": "2025-06-17T06:48:11.102482Z"
    },
    "trusted": true
   },
   "outputs": [],
   "source": [
    "def accuracy(A2, Y):\n",
    "    final_preds = final_predictions(A2)\n",
    "    return np.sum(final_preds == Y) / Y.size"
   ]
  },
  {
   "cell_type": "code",
   "execution_count": 40,
   "metadata": {
    "execution": {
     "iopub.execute_input": "2025-06-17T06:48:11.117903Z",
     "iopub.status.busy": "2025-06-17T06:48:11.117678Z",
     "iopub.status.idle": "2025-06-17T06:48:11.133812Z",
     "shell.execute_reply": "2025-06-17T06:48:11.132840Z",
     "shell.execute_reply.started": "2025-06-17T06:48:11.117886Z"
    },
    "trusted": true
   },
   "outputs": [],
   "source": [
    "def validation_and_decent(learning_rate=0.01, n_splits=5, n_iterations=500):\n",
    "    average_cost = 0\n",
    "    total_folds = 0\n",
    "    \n",
    "    kf = StratifiedKFold(n_splits=n_splits, shuffle=True, random_state=42)\n",
    "    for fold_idx,(train_idx, val_idx) in enumerate(kf.split(X_train_full.T, Y_train_full)):\n",
    "        #train_idx and val_idx are an array of indecies to help split this data.\n",
    "        X_train_split, Y_train_split = X_train_full[:,train_idx], Y_train_full[train_idx]\n",
    "        X_val_split, Y_val_split = X_train_full[:,val_idx], Y_train_full[val_idx]\n",
    "        \n",
    "        \n",
    "        n_features, n_samples = X_train_split.shape\n",
    "        n_hidden = 10\n",
    "        n_output = 10\n",
    "        W1, b1, W2, b2 = init_params(n_hidden=n_hidden, n_features=n_features, n_output=n_output)\n",
    "\n",
    "        for _ in range(n_iterations):\n",
    "            Z1, A1, Z2, A2 = forwardpass(W1, b1, W2, b2, X_train_split)\n",
    "            W1, b1, W2, b2 = update_params(W1, b1, W2, b2, Z1, A1, Z2, A2, X_train_split, Y_train_split, learning_rate)\n",
    "\n",
    "        \n",
    "        _, _, _, A2_val = forwardpass(W1, b1, W2, b2, X_val_split)\n",
    "        fold_cost = cost(A2_val, Y_val_split)\n",
    "        fold_accuracy = accuracy(A2_val, Y_val_split)\n",
    "        print(f\"Fold {fold_idx} — Cost: {fold_cost:.4f}, Acc: {fold_accuracy:.4f}\")\n",
    "        average_cost += fold_cost\n",
    "        total_folds += 1\n",
    "    average_cost /= total_folds\n",
    "    print(f\"\\nHyperparameter: learning_rate = {learning_rate}\")\n",
    "    print(f\"Average Cost: {average_cost:.4f}\")\n",
    "    return average_cost\n",
    "    "
   ]
  },
  {
   "cell_type": "code",
   "execution_count": null,
   "metadata": {
    "execution": {
     "iopub.execute_input": "2025-06-17T06:48:11.135425Z",
     "iopub.status.busy": "2025-06-17T06:48:11.135115Z"
    },
    "trusted": true
   },
   "outputs": [
    {
     "name": "stdout",
     "output_type": "stream",
     "text": [
      "Fold 0 — Cost: 2.2471, Acc: 0.1561\n",
      "Fold 1 — Cost: 2.1969, Acc: 0.1700\n"
     ]
    }
   ],
   "source": [
    "#main validation loop\n",
    "learning_rates = [1e-5, 1e-4, 1e-3, 5e-3, 1e-2]\n",
    "lowest_cost     = float(\"inf\")\n",
    "best_lr         = None\n",
    "\n",
    "for lr in learning_rates:\n",
    "    avg_cost = validation_and_decent(learning_rate=lr, n_splits=5, n_iterations=500)\n",
    "    print(f\"LR={lr:.5f} → Avg Cost={avg_cost:.4f}\")\n",
    "    if avg_cost < lowest_cost:\n",
    "        lowest_cost = avg_cost\n",
    "        best_lr     = lr\n",
    "\n",
    "print(f\"\\nBest learning rate: {best_lr}  (Avg Cost={lowest_cost:.4f})\")\n"
   ]
  },
  {
   "cell_type": "code",
   "execution_count": null,
   "metadata": {},
   "outputs": [],
   "source": [
    "print(\"For Test commit\")"
   ]
  }
 ],
 "metadata": {
  "kaggle": {
   "accelerator": "none",
   "dataSources": [
    {
     "databundleVersionId": 861823,
     "sourceId": 3004,
     "sourceType": "competition"
    }
   ],
   "dockerImageVersionId": 31040,
   "isGpuEnabled": false,
   "isInternetEnabled": false,
   "language": "python",
   "sourceType": "notebook"
  },
  "kernelspec": {
   "display_name": "Python 3",
   "language": "python",
   "name": "python3"
  },
  "language_info": {
   "codemirror_mode": {
    "name": "ipython",
    "version": 3
   },
   "file_extension": ".py",
   "mimetype": "text/x-python",
   "name": "python",
   "nbconvert_exporter": "python",
   "pygments_lexer": "ipython3",
   "version": "3.11.11"
  }
 },
 "nbformat": 4,
 "nbformat_minor": 4
}
