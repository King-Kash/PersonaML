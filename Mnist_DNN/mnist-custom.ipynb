{
 "cells": [
  {
   "cell_type": "code",
   "execution_count": 30,
   "metadata": {
    "_cell_guid": "b1076dfc-b9ad-4769-8c92-a6c4dae69d19",
    "_uuid": "8f2839f25d086af736a60e9eeb907d3b93b6e0e5",
    "execution": {
     "iopub.execute_input": "2025-06-17T07:44:15.543694Z",
     "iopub.status.busy": "2025-06-17T07:44:15.541836Z",
     "iopub.status.idle": "2025-06-17T07:44:15.551828Z",
     "shell.execute_reply": "2025-06-17T07:44:15.550620Z",
     "shell.execute_reply.started": "2025-06-17T07:44:15.543662Z"
    },
    "trusted": true
   },
   "outputs": [],
   "source": [
    "import pandas as pd\n",
    "import numpy as np\n",
    "from matplotlib import pyplot as plt\n",
    "from sklearn.model_selection import StratifiedKFold"
   ]
  },
  {
   "cell_type": "code",
   "execution_count": 31,
   "metadata": {
    "execution": {
     "iopub.execute_input": "2025-06-17T07:44:15.556805Z",
     "iopub.status.busy": "2025-06-17T07:44:15.556473Z",
     "iopub.status.idle": "2025-06-17T07:44:20.995655Z",
     "shell.execute_reply": "2025-06-17T07:44:20.994770Z",
     "shell.execute_reply.started": "2025-06-17T07:44:15.556780Z"
    },
    "trusted": true
   },
   "outputs": [],
   "source": [
    "train_data = pd.read_csv('data/train.csv')\n",
    "test_data = pd.read_csv('data/test.csv')"
   ]
  },
  {
   "cell_type": "code",
   "execution_count": 32,
   "metadata": {
    "execution": {
     "iopub.execute_input": "2025-06-17T07:44:20.997574Z",
     "iopub.status.busy": "2025-06-17T07:44:20.997248Z",
     "iopub.status.idle": "2025-06-17T07:44:21.018932Z",
     "shell.execute_reply": "2025-06-17T07:44:21.018107Z",
     "shell.execute_reply.started": "2025-06-17T07:44:20.997520Z"
    },
    "trusted": true
   },
   "outputs": [
    {
     "data": {
      "text/html": [
       "<div>\n",
       "<style scoped>\n",
       "    .dataframe tbody tr th:only-of-type {\n",
       "        vertical-align: middle;\n",
       "    }\n",
       "\n",
       "    .dataframe tbody tr th {\n",
       "        vertical-align: top;\n",
       "    }\n",
       "\n",
       "    .dataframe thead th {\n",
       "        text-align: right;\n",
       "    }\n",
       "</style>\n",
       "<table border=\"1\" class=\"dataframe\">\n",
       "  <thead>\n",
       "    <tr style=\"text-align: right;\">\n",
       "      <th></th>\n",
       "      <th>label</th>\n",
       "      <th>pixel0</th>\n",
       "      <th>pixel1</th>\n",
       "      <th>pixel2</th>\n",
       "      <th>pixel3</th>\n",
       "      <th>pixel4</th>\n",
       "      <th>pixel5</th>\n",
       "      <th>pixel6</th>\n",
       "      <th>pixel7</th>\n",
       "      <th>pixel8</th>\n",
       "      <th>...</th>\n",
       "      <th>pixel774</th>\n",
       "      <th>pixel775</th>\n",
       "      <th>pixel776</th>\n",
       "      <th>pixel777</th>\n",
       "      <th>pixel778</th>\n",
       "      <th>pixel779</th>\n",
       "      <th>pixel780</th>\n",
       "      <th>pixel781</th>\n",
       "      <th>pixel782</th>\n",
       "      <th>pixel783</th>\n",
       "    </tr>\n",
       "  </thead>\n",
       "  <tbody>\n",
       "    <tr>\n",
       "      <th>0</th>\n",
       "      <td>1</td>\n",
       "      <td>0</td>\n",
       "      <td>0</td>\n",
       "      <td>0</td>\n",
       "      <td>0</td>\n",
       "      <td>0</td>\n",
       "      <td>0</td>\n",
       "      <td>0</td>\n",
       "      <td>0</td>\n",
       "      <td>0</td>\n",
       "      <td>...</td>\n",
       "      <td>0</td>\n",
       "      <td>0</td>\n",
       "      <td>0</td>\n",
       "      <td>0</td>\n",
       "      <td>0</td>\n",
       "      <td>0</td>\n",
       "      <td>0</td>\n",
       "      <td>0</td>\n",
       "      <td>0</td>\n",
       "      <td>0</td>\n",
       "    </tr>\n",
       "    <tr>\n",
       "      <th>1</th>\n",
       "      <td>0</td>\n",
       "      <td>0</td>\n",
       "      <td>0</td>\n",
       "      <td>0</td>\n",
       "      <td>0</td>\n",
       "      <td>0</td>\n",
       "      <td>0</td>\n",
       "      <td>0</td>\n",
       "      <td>0</td>\n",
       "      <td>0</td>\n",
       "      <td>...</td>\n",
       "      <td>0</td>\n",
       "      <td>0</td>\n",
       "      <td>0</td>\n",
       "      <td>0</td>\n",
       "      <td>0</td>\n",
       "      <td>0</td>\n",
       "      <td>0</td>\n",
       "      <td>0</td>\n",
       "      <td>0</td>\n",
       "      <td>0</td>\n",
       "    </tr>\n",
       "    <tr>\n",
       "      <th>2</th>\n",
       "      <td>1</td>\n",
       "      <td>0</td>\n",
       "      <td>0</td>\n",
       "      <td>0</td>\n",
       "      <td>0</td>\n",
       "      <td>0</td>\n",
       "      <td>0</td>\n",
       "      <td>0</td>\n",
       "      <td>0</td>\n",
       "      <td>0</td>\n",
       "      <td>...</td>\n",
       "      <td>0</td>\n",
       "      <td>0</td>\n",
       "      <td>0</td>\n",
       "      <td>0</td>\n",
       "      <td>0</td>\n",
       "      <td>0</td>\n",
       "      <td>0</td>\n",
       "      <td>0</td>\n",
       "      <td>0</td>\n",
       "      <td>0</td>\n",
       "    </tr>\n",
       "    <tr>\n",
       "      <th>3</th>\n",
       "      <td>4</td>\n",
       "      <td>0</td>\n",
       "      <td>0</td>\n",
       "      <td>0</td>\n",
       "      <td>0</td>\n",
       "      <td>0</td>\n",
       "      <td>0</td>\n",
       "      <td>0</td>\n",
       "      <td>0</td>\n",
       "      <td>0</td>\n",
       "      <td>...</td>\n",
       "      <td>0</td>\n",
       "      <td>0</td>\n",
       "      <td>0</td>\n",
       "      <td>0</td>\n",
       "      <td>0</td>\n",
       "      <td>0</td>\n",
       "      <td>0</td>\n",
       "      <td>0</td>\n",
       "      <td>0</td>\n",
       "      <td>0</td>\n",
       "    </tr>\n",
       "    <tr>\n",
       "      <th>4</th>\n",
       "      <td>0</td>\n",
       "      <td>0</td>\n",
       "      <td>0</td>\n",
       "      <td>0</td>\n",
       "      <td>0</td>\n",
       "      <td>0</td>\n",
       "      <td>0</td>\n",
       "      <td>0</td>\n",
       "      <td>0</td>\n",
       "      <td>0</td>\n",
       "      <td>...</td>\n",
       "      <td>0</td>\n",
       "      <td>0</td>\n",
       "      <td>0</td>\n",
       "      <td>0</td>\n",
       "      <td>0</td>\n",
       "      <td>0</td>\n",
       "      <td>0</td>\n",
       "      <td>0</td>\n",
       "      <td>0</td>\n",
       "      <td>0</td>\n",
       "    </tr>\n",
       "  </tbody>\n",
       "</table>\n",
       "<p>5 rows × 785 columns</p>\n",
       "</div>"
      ],
      "text/plain": [
       "   label  pixel0  pixel1  pixel2  pixel3  pixel4  pixel5  pixel6  pixel7  \\\n",
       "0      1       0       0       0       0       0       0       0       0   \n",
       "1      0       0       0       0       0       0       0       0       0   \n",
       "2      1       0       0       0       0       0       0       0       0   \n",
       "3      4       0       0       0       0       0       0       0       0   \n",
       "4      0       0       0       0       0       0       0       0       0   \n",
       "\n",
       "   pixel8  ...  pixel774  pixel775  pixel776  pixel777  pixel778  pixel779  \\\n",
       "0       0  ...         0         0         0         0         0         0   \n",
       "1       0  ...         0         0         0         0         0         0   \n",
       "2       0  ...         0         0         0         0         0         0   \n",
       "3       0  ...         0         0         0         0         0         0   \n",
       "4       0  ...         0         0         0         0         0         0   \n",
       "\n",
       "   pixel780  pixel781  pixel782  pixel783  \n",
       "0         0         0         0         0  \n",
       "1         0         0         0         0  \n",
       "2         0         0         0         0  \n",
       "3         0         0         0         0  \n",
       "4         0         0         0         0  \n",
       "\n",
       "[5 rows x 785 columns]"
      ]
     },
     "execution_count": 32,
     "metadata": {},
     "output_type": "execute_result"
    }
   ],
   "source": [
    "train_data.head()"
   ]
  },
  {
   "cell_type": "code",
   "execution_count": 33,
   "metadata": {
    "execution": {
     "iopub.execute_input": "2025-06-17T07:44:21.020285Z",
     "iopub.status.busy": "2025-06-17T07:44:21.019956Z",
     "iopub.status.idle": "2025-06-17T07:44:21.235606Z",
     "shell.execute_reply": "2025-06-17T07:44:21.234701Z",
     "shell.execute_reply.started": "2025-06-17T07:44:21.020257Z"
    },
    "trusted": true
   },
   "outputs": [
    {
     "name": "stdout",
     "output_type": "stream",
     "text": [
      "784 42000\n"
     ]
    }
   ],
   "source": [
    "X_train_full = np.array(train_data)\n",
    "np.random.shuffle(X_train_full) #shuffle data before transpose and before splitting into train and test\n",
    "X_train_full = X_train_full.T #samples now arranged as columns\n",
    "Y_train_full = X_train_full[0]\n",
    "Y_train_full.shape\n",
    "X_train_full = X_train_full[1:] #purify data matrix by removing lables row\n",
    "n, m = X_train_full.shape\n",
    "print(n, m)"
   ]
  },
  {
   "cell_type": "code",
   "execution_count": 34,
   "metadata": {
    "execution": {
     "iopub.execute_input": "2025-06-17T07:44:21.236958Z",
     "iopub.status.busy": "2025-06-17T07:44:21.236686Z",
     "iopub.status.idle": "2025-06-17T07:44:21.377362Z",
     "shell.execute_reply": "2025-06-17T07:44:21.376391Z",
     "shell.execute_reply.started": "2025-06-17T07:44:21.236938Z"
    },
    "trusted": true
   },
   "outputs": [],
   "source": [
    "X_test = np.array(test_data)\n",
    "X_test = X_test.T #samples now arranged as columns"
   ]
  },
  {
   "cell_type": "code",
   "execution_count": 35,
   "metadata": {
    "execution": {
     "iopub.execute_input": "2025-06-17T07:44:21.380145Z",
     "iopub.status.busy": "2025-06-17T07:44:21.379832Z",
     "iopub.status.idle": "2025-06-17T07:44:21.386699Z",
     "shell.execute_reply": "2025-06-17T07:44:21.385649Z",
     "shell.execute_reply.started": "2025-06-17T07:44:21.380124Z"
    },
    "trusted": true
   },
   "outputs": [
    {
     "data": {
      "text/plain": [
       "array([[0, 0, 0, ..., 0, 0, 0],\n",
       "       [0, 0, 0, ..., 0, 0, 0],\n",
       "       [0, 0, 0, ..., 0, 0, 0],\n",
       "       ...,\n",
       "       [0, 0, 0, ..., 0, 0, 0],\n",
       "       [0, 0, 0, ..., 0, 0, 0],\n",
       "       [0, 0, 0, ..., 0, 0, 0]], shape=(784, 42000))"
      ]
     },
     "execution_count": 35,
     "metadata": {},
     "output_type": "execute_result"
    }
   ],
   "source": [
    "X_train_full"
   ]
  },
  {
   "cell_type": "code",
   "execution_count": 36,
   "metadata": {
    "execution": {
     "iopub.execute_input": "2025-06-17T07:44:21.387960Z",
     "iopub.status.busy": "2025-06-17T07:44:21.387725Z",
     "iopub.status.idle": "2025-06-17T07:44:21.409565Z",
     "shell.execute_reply": "2025-06-17T07:44:21.408707Z",
     "shell.execute_reply.started": "2025-06-17T07:44:21.387943Z"
    },
    "trusted": true
   },
   "outputs": [
    {
     "name": "stdout",
     "output_type": "stream",
     "text": [
      "9\n"
     ]
    }
   ],
   "source": [
    "max_index = max(Y_train_full)\n",
    "print(max_index)"
   ]
  },
  {
   "cell_type": "code",
   "execution_count": 37,
   "metadata": {
    "execution": {
     "iopub.execute_input": "2025-06-17T07:44:21.410965Z",
     "iopub.status.busy": "2025-06-17T07:44:21.410595Z",
     "iopub.status.idle": "2025-06-17T07:44:21.429934Z",
     "shell.execute_reply": "2025-06-17T07:44:21.429082Z",
     "shell.execute_reply.started": "2025-06-17T07:44:21.410940Z"
    },
    "trusted": true
   },
   "outputs": [],
   "source": [
    "def init_params(n_hidden=10, n_features=784, n_output=10):\n",
    "    W1 = np.random.randn(n_hidden, n_features) * 0.01\n",
    "    b1 = np.random.randn(n_hidden, 1) * 0.01\n",
    "    W2 = np.random.randn(n_output, n_hidden) * 0.01\n",
    "    b2 = np.random.randn(n_output, 1) * 0.01\n",
    "    return W1, b1, W2, b2"
   ]
  },
  {
   "cell_type": "code",
   "execution_count": 38,
   "metadata": {
    "execution": {
     "iopub.execute_input": "2025-06-17T07:44:21.431398Z",
     "iopub.status.busy": "2025-06-17T07:44:21.431079Z",
     "iopub.status.idle": "2025-06-17T07:44:21.449794Z",
     "shell.execute_reply": "2025-06-17T07:44:21.448744Z",
     "shell.execute_reply.started": "2025-06-17T07:44:21.431370Z"
    },
    "trusted": true
   },
   "outputs": [],
   "source": [
    "def softmax(Z):\n",
    "    Z_shifted = Z - np.max(Z, axis=0, keepdims=True)\n",
    "    exp_Z = np.exp(Z_shifted)\n",
    "    return exp_Z/np.sum(exp_Z, axis=0, keepdims=True)"
   ]
  },
  {
   "cell_type": "code",
   "execution_count": 39,
   "metadata": {
    "execution": {
     "iopub.execute_input": "2025-06-17T07:44:21.451626Z",
     "iopub.status.busy": "2025-06-17T07:44:21.451008Z",
     "iopub.status.idle": "2025-06-17T07:44:21.471061Z",
     "shell.execute_reply": "2025-06-17T07:44:21.470214Z",
     "shell.execute_reply.started": "2025-06-17T07:44:21.451597Z"
    },
    "trusted": true
   },
   "outputs": [],
   "source": [
    "def forwardpass(W1, b1, W2, b2, X):\n",
    "    #layer 1 computations\n",
    "    n_samples = X.shape[1]\n",
    "    b1_expanded = np.repeat(b1, n_samples, axis=1)\n",
    "    Z1 = np.dot(W1, X) + b1_expanded\n",
    "    A1 = np.maximum(0, Z1) #1st layer nodes for each sample\n",
    "    b2_expanded = np.repeat(b2, n_samples, axis=1)\n",
    "    Z2 = np.dot(W2, A1) + b2_expanded\n",
    "    A2 = softmax(Z2)\n",
    "    return Z1, A1, Z2, A2"
   ]
  },
  {
   "cell_type": "code",
   "execution_count": 40,
   "metadata": {
    "execution": {
     "iopub.execute_input": "2025-06-17T07:44:21.472489Z",
     "iopub.status.busy": "2025-06-17T07:44:21.472203Z",
     "iopub.status.idle": "2025-06-17T07:44:21.494691Z",
     "shell.execute_reply": "2025-06-17T07:44:21.493743Z",
     "shell.execute_reply.started": "2025-06-17T07:44:21.472469Z"
    },
    "trusted": true
   },
   "outputs": [],
   "source": [
    "def backprop(W1, b1, W2, b2, X, Y, Z1, A1, Z2, A2):\n",
    "    # dZ2 = A2.copy()\n",
    "    # for i in range(n_samples):\n",
    "    #     dZ2[Y[i],i] -= 1\n",
    "    # dW2 = (1/n_samples)*np.dot(dZ2, A1.T)\n",
    "    n_samples = X.shape[1]\n",
    "    dZ2 = A2.copy()\n",
    "    dZ2[Y, np.arange(n_samples)] -= 1\n",
    "    dZ2 = (1/n_samples)*dZ2\n",
    "    dW2 = np.dot(dZ2, A1.T)\n",
    "\n",
    "    db2 = np.sum(dZ2, axis=1, keepdims=True)\n",
    "\n",
    "    dA1 = np.dot(W2.T, dZ2)\n",
    "    ReLU_mask = (Z1 > 0).astype(int)\n",
    "    dZ1 = dA1 * ReLU_mask\n",
    "    dW1 = np.dot(dZ1, X.T)\n",
    "\n",
    "    db1 = np.sum(dZ1, axis=1, keepdims=True)\n",
    "\n",
    "    return dW1, db1, dW2, db2"
   ]
  },
  {
   "cell_type": "code",
   "execution_count": 41,
   "metadata": {
    "execution": {
     "iopub.execute_input": "2025-06-17T07:44:21.495953Z",
     "iopub.status.busy": "2025-06-17T07:44:21.495699Z",
     "iopub.status.idle": "2025-06-17T07:44:21.513067Z",
     "shell.execute_reply": "2025-06-17T07:44:21.512050Z",
     "shell.execute_reply.started": "2025-06-17T07:44:21.495934Z"
    },
    "trusted": true
   },
   "outputs": [],
   "source": [
    "def update_params(W1, b1, W2, b2, Z1, A1, Z2, A2, X, Y, learning_rate=0.01):\n",
    "    dW1, db1, dW2, db2 = backprop(W1, b1, W2, b2, X, Y, Z1, A1, Z2, A2)\n",
    "    W1 = W1 - learning_rate*dW1\n",
    "    b1 = b1 - learning_rate*db1\n",
    "    W2 = W2 - learning_rate*dW2 \n",
    "    b2 = b2 - learning_rate*db2\n",
    "    return W1, b1, W2, b2"
   ]
  },
  {
   "cell_type": "code",
   "execution_count": 42,
   "metadata": {
    "execution": {
     "iopub.execute_input": "2025-06-17T07:44:21.514156Z",
     "iopub.status.busy": "2025-06-17T07:44:21.513898Z",
     "iopub.status.idle": "2025-06-17T07:44:21.531207Z",
     "shell.execute_reply": "2025-06-17T07:44:21.530398Z",
     "shell.execute_reply.started": "2025-06-17T07:44:21.514137Z"
    },
    "trusted": true
   },
   "outputs": [],
   "source": [
    "def cost(A2, Y):\n",
    "    n_samples = Y.shape[0]\n",
    "    return -np.sum(np.log(A2[Y, np.arange(n_samples)])) / n_samples"
   ]
  },
  {
   "cell_type": "code",
   "execution_count": 43,
   "metadata": {
    "execution": {
     "iopub.execute_input": "2025-06-17T07:44:21.532551Z",
     "iopub.status.busy": "2025-06-17T07:44:21.532218Z",
     "iopub.status.idle": "2025-06-17T07:44:21.549139Z",
     "shell.execute_reply": "2025-06-17T07:44:21.548341Z",
     "shell.execute_reply.started": "2025-06-17T07:44:21.532522Z"
    },
    "trusted": true
   },
   "outputs": [],
   "source": [
    "def final_predictions(A2):\n",
    "    return np.argmax(A2, axis=0)"
   ]
  },
  {
   "cell_type": "code",
   "execution_count": 44,
   "metadata": {
    "execution": {
     "iopub.execute_input": "2025-06-17T07:44:21.552298Z",
     "iopub.status.busy": "2025-06-17T07:44:21.551956Z",
     "iopub.status.idle": "2025-06-17T07:44:21.567812Z",
     "shell.execute_reply": "2025-06-17T07:44:21.566949Z",
     "shell.execute_reply.started": "2025-06-17T07:44:21.552276Z"
    },
    "trusted": true
   },
   "outputs": [],
   "source": [
    "def model_probabilities(W1, b1, W2, b2, X):\n",
    "    _, _, _, A2 = forwardpass(W1, b1, W2, b2, X)\n",
    "    return A2"
   ]
  },
  {
   "cell_type": "code",
   "execution_count": 45,
   "metadata": {
    "execution": {
     "iopub.execute_input": "2025-06-17T07:44:21.569095Z",
     "iopub.status.busy": "2025-06-17T07:44:21.568743Z",
     "iopub.status.idle": "2025-06-17T07:44:21.584887Z",
     "shell.execute_reply": "2025-06-17T07:44:21.583901Z",
     "shell.execute_reply.started": "2025-06-17T07:44:21.569063Z"
    },
    "trusted": true
   },
   "outputs": [],
   "source": [
    "def accuracy(A2, Y):\n",
    "    final_preds = final_predictions(A2)\n",
    "    return np.sum(final_preds == Y) / Y.size"
   ]
  },
  {
   "cell_type": "code",
   "execution_count": 46,
   "metadata": {
    "execution": {
     "iopub.execute_input": "2025-06-17T07:44:21.586718Z",
     "iopub.status.busy": "2025-06-17T07:44:21.586351Z",
     "iopub.status.idle": "2025-06-17T07:44:21.605444Z",
     "shell.execute_reply": "2025-06-17T07:44:21.604512Z",
     "shell.execute_reply.started": "2025-06-17T07:44:21.586687Z"
    },
    "trusted": true
   },
   "outputs": [],
   "source": [
    "def validation_and_decent(learning_rate=0.01, n_splits=5, n_iterations=500):\n",
    "    average_cost = 0\n",
    "    total_folds = 0\n",
    "    \n",
    "    kf = StratifiedKFold(n_splits=n_splits, shuffle=True, random_state=42)\n",
    "    for fold_idx,(train_idx, val_idx) in enumerate(kf.split(X_train_full.T, Y_train_full)):\n",
    "        #train_idx and val_idx are an array of indecies to help split this data.\n",
    "        X_train_split, Y_train_split = X_train_full[:,train_idx], Y_train_full[train_idx]\n",
    "        X_val_split, Y_val_split = X_train_full[:,val_idx], Y_train_full[val_idx]\n",
    "        \n",
    "        \n",
    "        n_features, n_samples = X_train_split.shape\n",
    "        n_hidden = 10\n",
    "        n_output = 10\n",
    "        W1, b1, W2, b2 = init_params(n_hidden=n_hidden, n_features=n_features, n_output=n_output)\n",
    "\n",
    "        for _ in range(n_iterations):\n",
    "            Z1, A1, Z2, A2 = forwardpass(W1, b1, W2, b2, X_train_split)\n",
    "            W1, b1, W2, b2 = update_params(W1, b1, W2, b2, Z1, A1, Z2, A2, X_train_split, Y_train_split, learning_rate)\n",
    "\n",
    "        \n",
    "        _, _, _, A2_val = forwardpass(W1, b1, W2, b2, X_val_split)\n",
    "        fold_cost = cost(A2_val, Y_val_split)\n",
    "        fold_accuracy = accuracy(A2_val, Y_val_split)\n",
    "        print(f\"Fold {fold_idx} — Cost: {fold_cost:.4f}, Acc: {fold_accuracy:.4f}\")\n",
    "        average_cost += fold_cost\n",
    "        total_folds += 1\n",
    "    average_cost /= total_folds\n",
    "    print(f\"\\nHyperparameter: learning_rate = {learning_rate}\")\n",
    "    print(f\"Average Cost: {average_cost:.4f}\")\n",
    "    return average_cost\n",
    "    "
   ]
  },
  {
   "cell_type": "code",
   "execution_count": 47,
   "metadata": {
    "execution": {
     "iopub.execute_input": "2025-06-17T07:44:21.606654Z",
     "iopub.status.busy": "2025-06-17T07:44:21.606392Z"
    },
    "trusted": true
   },
   "outputs": [
    {
     "name": "stdout",
     "output_type": "stream",
     "text": [
      "Fold 0 — Cost: 2.1381, Acc: 0.2099\n",
      "Fold 1 — Cost: 2.0477, Acc: 0.2626\n",
      "Fold 2 — Cost: 2.2112, Acc: 0.2144\n",
      "Fold 3 — Cost: 2.1780, Acc: 0.2105\n",
      "Fold 4 — Cost: 2.1404, Acc: 0.2202\n",
      "\n",
      "Hyperparameter: learning_rate = 1e-05\n",
      "Average Cost: 2.1431\n",
      "LR=0.00001 → Avg Cost=2.1431\n",
      "Fold 0 — Cost: 0.8134, Acc: 0.7485\n",
      "Fold 1 — Cost: 0.7524, Acc: 0.7749\n",
      "Fold 2 — Cost: 0.8303, Acc: 0.7395\n",
      "Fold 3 — Cost: 0.6994, Acc: 0.8007\n",
      "Fold 4 — Cost: 0.7484, Acc: 0.7717\n",
      "\n",
      "Hyperparameter: learning_rate = 0.0001\n",
      "Average Cost: 0.7688\n",
      "LR=0.00010 → Avg Cost=0.7688\n",
      "Fold 0 — Cost: 0.3329, Acc: 0.9067\n",
      "Fold 1 — Cost: 0.3433, Acc: 0.9037\n",
      "Fold 2 — Cost: 0.3204, Acc: 0.9083\n",
      "Fold 3 — Cost: 0.3408, Acc: 0.9037\n",
      "Fold 4 — Cost: 0.3454, Acc: 0.8969\n",
      "\n",
      "Hyperparameter: learning_rate = 0.001\n",
      "Average Cost: 0.3366\n",
      "LR=0.00100 → Avg Cost=0.3366\n",
      "Fold 0 — Cost: 1.6479, Acc: 0.3568\n",
      "Fold 1 — Cost: 0.6815, Acc: 0.7785\n",
      "Fold 2 — Cost: 2.0095, Acc: 0.2039\n",
      "Fold 3 — Cost: 0.4153, Acc: 0.8739\n",
      "Fold 4 — Cost: 1.6557, Acc: 0.3783\n",
      "\n",
      "Hyperparameter: learning_rate = 0.005\n",
      "Average Cost: 1.2820\n",
      "LR=0.00500 → Avg Cost=1.2820\n",
      "Fold 0 — Cost: 1.8610, Acc: 0.2911\n",
      "Fold 1 — Cost: 2.0302, Acc: 0.2135\n",
      "Fold 2 — Cost: 2.3016, Acc: 0.1114\n",
      "Fold 3 — Cost: 2.1060, Acc: 0.2074\n",
      "Fold 4 — Cost: 2.0394, Acc: 0.2142\n",
      "\n",
      "Hyperparameter: learning_rate = 0.01\n",
      "Average Cost: 2.0676\n",
      "LR=0.01000 → Avg Cost=2.0676\n",
      "\n",
      "Best learning rate: 0.001  (Avg Cost=0.3366)\n",
      "\n"
     ]
    }
   ],
   "source": [
    "#main validation loop\n",
    "learning_rates = [1e-5, 1e-4, 1e-3, 5e-3, 1e-2]\n",
    "lowest_cost     = float(\"inf\")\n",
    "best_lr         = None\n",
    "\n",
    "for lr in learning_rates:\n",
    "    avg_cost = validation_and_decent(learning_rate=lr, n_splits=5, n_iterations=500)\n",
    "    print(f\"LR={lr:.5f} → Avg Cost={avg_cost:.4f}\")\n",
    "    if avg_cost < lowest_cost:\n",
    "        lowest_cost = avg_cost\n",
    "        best_lr     = lr\n",
    "\n",
    "print(f\"\\nBest learning rate: {best_lr}  (Avg Cost={lowest_cost:.4f})\\n\")\n"
   ]
  },
  {
   "cell_type": "code",
   "execution_count": 48,
   "metadata": {
    "trusted": true
   },
   "outputs": [],
   "source": [
    "def final_train(learning_rate=0.01, n_iterations=500):\n",
    "    n_features, n_samples = X_train_full.shape\n",
    "    n_hidden  = 10\n",
    "    n_output  = 10\n",
    "\n",
    "    W1, b1, W2, b2 = init_params(\n",
    "        n_hidden=n_hidden,\n",
    "        n_features=n_features,\n",
    "        n_output=n_output\n",
    "    )\n",
    "\n",
    "    for _ in range(n_iterations):\n",
    "        Z1, A1, Z2, A2 = forwardpass(W1, b1, W2, b2, X_train_full)\n",
    "        W1, b1, W2, b2 = update_params(\n",
    "            W1, b1, W2, b2,\n",
    "            Z1, A1, Z2, A2,\n",
    "            X_train_full, Y_train_full,\n",
    "            learning_rate\n",
    "        )\n",
    "\n",
    "    # Evaluate on the same training data\n",
    "    _, _, _, A2_full = forwardpass(W1, b1, W2, b2, X_train_full)\n",
    "    full_cost       = cost(A2_full, Y_train_full)\n",
    "    full_accuracy   = accuracy(A2_full, Y_train_full)\n",
    "\n",
    "    print(f\"Train Cost: {full_cost:.4f}, Train Acc: {full_accuracy:.4f}\\n\")\n",
    "    return W1, b1, W2, b2"
   ]
  },
  {
   "cell_type": "code",
   "execution_count": 49,
   "metadata": {
    "trusted": true
   },
   "outputs": [
    {
     "name": "stdout",
     "output_type": "stream",
     "text": [
      "Train Cost: 0.3109, Train Acc: 0.9101\n",
      "\n"
     ]
    }
   ],
   "source": [
    "W1, b1, W2, b2 = final_train(learning_rate=best_lr)"
   ]
  },
  {
   "cell_type": "code",
   "execution_count": 50,
   "metadata": {
    "trusted": true
   },
   "outputs": [],
   "source": [
    "# _, _, _, A2_final = forwardpass(W1, b1, W2, b2, X_test)\n",
    "# final_cost = cost(A2_final, Y_test)\n",
    "# final_accuracy = accuracy(A2_final, Y_test)\n",
    "# print(f\"Test Cost: {final_cost:.4f}, Test Acc: {final_accuracy:.4f}\\n\")"
   ]
  },
  {
   "cell_type": "code",
   "execution_count": 51,
   "metadata": {},
   "outputs": [
    {
     "data": {
      "text/plain": [
       "(784, 28000)"
      ]
     },
     "execution_count": 51,
     "metadata": {},
     "output_type": "execute_result"
    }
   ],
   "source": [
    "X_test.shape"
   ]
  },
  {
   "cell_type": "code",
   "execution_count": 53,
   "metadata": {},
   "outputs": [],
   "source": [
    "_, _, _, A2_test = forwardpass(W1, b1, W2, b2, X_test)\n",
    "preds = final_predictions(A2_test)           # shape (28000,)\n",
    "submission = pd.DataFrame({\n",
    "    \"ImageId\": np.arange(1, len(preds)+1),\n",
    "    \"Label\": preds\n",
    "})\n",
    "submission.to_csv(\"submission.csv\", index=False)"
   ]
  }
 ],
 "metadata": {
  "kaggle": {
   "accelerator": "none",
   "dataSources": [
    {
     "databundleVersionId": 861823,
     "sourceId": 3004,
     "sourceType": "competition"
    }
   ],
   "dockerImageVersionId": 31040,
   "isGpuEnabled": false,
   "isInternetEnabled": false,
   "language": "python",
   "sourceType": "notebook"
  },
  "kernelspec": {
   "display_name": "m146",
   "language": "python",
   "name": "python3"
  },
  "language_info": {
   "codemirror_mode": {
    "name": "ipython",
    "version": 3
   },
   "file_extension": ".py",
   "mimetype": "text/x-python",
   "name": "python",
   "nbconvert_exporter": "python",
   "pygments_lexer": "ipython3",
   "version": "3.12.9"
  }
 },
 "nbformat": 4,
 "nbformat_minor": 4
}
