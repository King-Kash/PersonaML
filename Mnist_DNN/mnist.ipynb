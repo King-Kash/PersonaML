{
 "cells": [
  {
   "cell_type": "code",
   "execution_count": 2,
   "id": "3e28eaa0",
   "metadata": {},
   "outputs": [],
   "source": [
    "import numpy as np\n",
    "import matplotlib.pyplot as plt\n",
    "from sklearn.model_selection import train_test_split\n",
    "from sklearn.datasets import fetch_openml\n",
    "from sklearn.preprocessing import OneHotEncoder"
   ]
  },
  {
   "cell_type": "code",
   "execution_count": null,
   "id": "2120ae84",
   "metadata": {},
   "outputs": [],
   "source": [
    "digits = fetch_openml()\n",
    "X = digits.data.astype()"
   ]
  }
 ],
 "metadata": {
  "kernelspec": {
   "display_name": "m146",
   "language": "python",
   "name": "python3"
  },
  "language_info": {
   "codemirror_mode": {
    "name": "ipython",
    "version": 3
   },
   "file_extension": ".py",
   "mimetype": "text/x-python",
   "name": "python",
   "nbconvert_exporter": "python",
   "pygments_lexer": "ipython3",
   "version": "3.12.9"
  }
 },
 "nbformat": 4,
 "nbformat_minor": 5
}
